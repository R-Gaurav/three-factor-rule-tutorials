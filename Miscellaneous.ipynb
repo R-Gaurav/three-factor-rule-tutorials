{
 "cells": [
  {
   "cell_type": "code",
   "execution_count": 1,
   "id": "5eb426fb",
   "metadata": {},
   "outputs": [],
   "source": [
    "import torch"
   ]
  },
  {
   "cell_type": "code",
   "execution_count": 2,
   "id": "3354815c",
   "metadata": {},
   "outputs": [
    {
     "data": {
      "text/plain": [
       "(torch.Size([5, 4]),\n",
       " tensor([[0.5281, 0.0118, 0.1170, 0.8329],\n",
       "         [0.4175, 0.9980, 0.5873, 0.7429],\n",
       "         [0.6451, 0.6399, 0.7961, 0.1751],\n",
       "         [0.3774, 0.6720, 0.4722, 0.6053],\n",
       "         [0.0178, 0.9580, 0.3456, 0.3501]]),\n",
       " False)"
      ]
     },
     "execution_count": 2,
     "metadata": {},
     "output_type": "execute_result"
    }
   ],
   "source": [
    "w1 = torch.rand(5, 4)\n",
    "w1.shape, w1, w1.requires_grad"
   ]
  },
  {
   "cell_type": "code",
   "execution_count": 3,
   "id": "2c8402d4",
   "metadata": {},
   "outputs": [
    {
     "data": {
      "text/plain": [
       "tensor([[0.5281, 0.0118, 0.1170, 0.8329],\n",
       "        [0.4175, 0.9980, 0.5873, 0.7429],\n",
       "        [0.6451, 0.6399, 0.7961, 0.1751],\n",
       "        [0.3774, 0.6720, 0.4722, 0.6053],\n",
       "        [0.0178, 0.9580, 0.3456, 0.3501]], requires_grad=True)"
      ]
     },
     "execution_count": 3,
     "metadata": {},
     "output_type": "execute_result"
    }
   ],
   "source": [
    "w1.requires_grad_()"
   ]
  },
  {
   "cell_type": "code",
   "execution_count": 4,
   "id": "9c15e8ab",
   "metadata": {},
   "outputs": [
    {
     "data": {
      "text/plain": [
       "(torch.Size([4, 1]),\n",
       " tensor([[0.7036],\n",
       "         [0.8408],\n",
       "         [0.7220],\n",
       "         [0.0120]]),\n",
       " False)"
      ]
     },
     "execution_count": 4,
     "metadata": {},
     "output_type": "execute_result"
    }
   ],
   "source": [
    "x = torch.rand(4, 1)\n",
    "x.shape, x, x.requires_grad"
   ]
  },
  {
   "cell_type": "code",
   "execution_count": 5,
   "id": "e86cff5c",
   "metadata": {},
   "outputs": [
    {
     "data": {
      "text/plain": [
       "(tensor([[0.4760],\n",
       "         [1.5658],\n",
       "         [1.5688],\n",
       "         [1.1787],\n",
       "         [1.0717]], grad_fn=<MmBackward0>),\n",
       " True)"
      ]
     },
     "execution_count": 5,
     "metadata": {},
     "output_type": "execute_result"
    }
   ],
   "source": [
    "# y = w1 * x.\n",
    "y = torch.matmul(w1, x)\n",
    "y, y.requires_grad"
   ]
  },
  {
   "cell_type": "code",
   "execution_count": 6,
   "id": "96c3aa11",
   "metadata": {},
   "outputs": [
    {
     "name": "stdout",
     "output_type": "stream",
     "text": [
      "None None <MmBackward0 object at 0x7f162907b8e0>\n"
     ]
    }
   ],
   "source": [
    "print(w1.grad_fn, x.grad_fn, y.grad_fn)"
   ]
  },
  {
   "cell_type": "code",
   "execution_count": 7,
   "id": "5cceb55c",
   "metadata": {},
   "outputs": [
    {
     "name": "stdout",
     "output_type": "stream",
     "text": [
      "None None None\n"
     ]
    },
    {
     "name": "stderr",
     "output_type": "stream",
     "text": [
      "/home/rgaurav/Public/Py-Envs/Lava/lib/python3.9/site-packages/torch/_tensor.py:1083: UserWarning: The .grad attribute of a Tensor that is not a leaf Tensor is being accessed. Its .grad attribute won't be populated during autograd.backward(). If you indeed want the .grad field to be populated for a non-leaf Tensor, use .retain_grad() on the non-leaf Tensor. If you access the non-leaf Tensor by mistake, make sure you access the leaf Tensor instead. See github.com/pytorch/pytorch/pull/30531 for more informations. (Triggered internally at  aten/src/ATen/core/TensorBody.h:482.)\n",
      "  return self._grad\n"
     ]
    }
   ],
   "source": [
    "print(w1.grad, x.grad, y.grad)"
   ]
  },
  {
   "cell_type": "code",
   "execution_count": 8,
   "id": "ae56535a",
   "metadata": {},
   "outputs": [
    {
     "name": "stdout",
     "output_type": "stream",
     "text": [
      "tensor(5.8611, grad_fn=<SumBackward0>)\n",
      "None\n"
     ]
    }
   ],
   "source": [
    "k = y.sum()\n",
    "print(k)\n",
    "print(k.backward())"
   ]
  },
  {
   "cell_type": "code",
   "execution_count": 9,
   "id": "898e6903",
   "metadata": {
    "scrolled": true
   },
   "outputs": [
    {
     "name": "stdout",
     "output_type": "stream",
     "text": [
      "tensor([[0.7036, 0.8408, 0.7220, 0.0120],\n",
      "        [0.7036, 0.8408, 0.7220, 0.0120],\n",
      "        [0.7036, 0.8408, 0.7220, 0.0120],\n",
      "        [0.7036, 0.8408, 0.7220, 0.0120],\n",
      "        [0.7036, 0.8408, 0.7220, 0.0120]]) None None\n"
     ]
    }
   ],
   "source": [
    "print(w1.grad, x.grad, y.grad)"
   ]
  },
  {
   "cell_type": "markdown",
   "id": "1527adad",
   "metadata": {},
   "source": [
    "# xxxxxxxxxxxxxxxxxxxxxxxxxxxxxxxxxxxxxxxxxxxxxxxxxxxxxxxxxxxx"
   ]
  },
  {
   "cell_type": "code",
   "execution_count": 10,
   "id": "f38e1195",
   "metadata": {},
   "outputs": [],
   "source": [
    "w = torch.as_tensor(3.)\n",
    "w.requires_grad_()\n",
    "x = torch.as_tensor(2)\n",
    "y = w*x"
   ]
  },
  {
   "cell_type": "code",
   "execution_count": 11,
   "id": "72780f2d",
   "metadata": {},
   "outputs": [
    {
     "name": "stdout",
     "output_type": "stream",
     "text": [
      "True False True\n"
     ]
    }
   ],
   "source": [
    "print(w.requires_grad, x.requires_grad, y.requires_grad)"
   ]
  },
  {
   "cell_type": "code",
   "execution_count": 12,
   "id": "ff30323f",
   "metadata": {},
   "outputs": [
    {
     "name": "stdout",
     "output_type": "stream",
     "text": [
      "None None None\n"
     ]
    }
   ],
   "source": [
    "print(w.grad, x.grad, y.grad)"
   ]
  },
  {
   "cell_type": "code",
   "execution_count": 13,
   "id": "aab86cd3",
   "metadata": {},
   "outputs": [
    {
     "name": "stdout",
     "output_type": "stream",
     "text": [
      "tensor(6., grad_fn=<MulBackward0>)\n"
     ]
    }
   ],
   "source": [
    "print(y)"
   ]
  },
  {
   "cell_type": "code",
   "execution_count": 14,
   "id": "c956de10",
   "metadata": {},
   "outputs": [],
   "source": [
    "y.backward()"
   ]
  },
  {
   "cell_type": "code",
   "execution_count": 15,
   "id": "508a74c6",
   "metadata": {},
   "outputs": [
    {
     "name": "stdout",
     "output_type": "stream",
     "text": [
      "tensor(2.) None None\n"
     ]
    }
   ],
   "source": [
    "print(w.grad, x.grad, y.grad) # dy/dw"
   ]
  },
  {
   "cell_type": "code",
   "execution_count": 16,
   "id": "042e8a0b",
   "metadata": {},
   "outputs": [
    {
     "name": "stdout",
     "output_type": "stream",
     "text": [
      "True None\n"
     ]
    }
   ],
   "source": [
    "m = 5 * w\n",
    "print(m.requires_grad, m.grad)"
   ]
  },
  {
   "cell_type": "code",
   "execution_count": 17,
   "id": "1f86ef54",
   "metadata": {},
   "outputs": [
    {
     "name": "stdout",
     "output_type": "stream",
     "text": [
      "False\n"
     ]
    }
   ],
   "source": [
    "m = m.detach()\n",
    "print(m.requires_grad)"
   ]
  },
  {
   "cell_type": "markdown",
   "id": "1b4cac67",
   "metadata": {},
   "source": [
    "# xxxxxxxxxxxxxxxxxxxxxxxxxxxxxxxxxxxxxxxxxxxxxxxxxxxxxxxx\n",
    "\n",
    "$$y = x^2 + 2$$\n",
    "$$m = y\\times4$$\n",
    "$$l = y^2  \\text{     where y is detached      } $$"
   ]
  },
  {
   "cell_type": "code",
   "execution_count": 18,
   "id": "e08daa92",
   "metadata": {},
   "outputs": [
    {
     "name": "stdout",
     "output_type": "stream",
     "text": [
      "True True True\n",
      "tensor(13., grad_fn=<AddBackward0>)\n"
     ]
    }
   ],
   "source": [
    "# y = x^2 + 2\n",
    "x = torch.as_tensor(3.)\n",
    "x.requires_grad_()\n",
    "a = torch.as_tensor(2.)\n",
    "a.requires_grad_()\n",
    "#y = x**2 + 2\n",
    "y = x**2 + a**2\n",
    "#print(x.requires_grad, y.requires_grad)\n",
    "print(a.requires_grad, x.requires_grad, y.requires_grad)\n",
    "print(y)"
   ]
  },
  {
   "cell_type": "code",
   "execution_count": 19,
   "id": "d30e23ff",
   "metadata": {},
   "outputs": [
    {
     "name": "stdout",
     "output_type": "stream",
     "text": [
      "tensor(52., grad_fn=<MulBackward0>) True\n"
     ]
    }
   ],
   "source": [
    "# m = y * 4\n",
    "m = y*4\n",
    "print(m, m.requires_grad)"
   ]
  },
  {
   "cell_type": "code",
   "execution_count": 20,
   "id": "01b78221",
   "metadata": {},
   "outputs": [
    {
     "name": "stdout",
     "output_type": "stream",
     "text": [
      "tensor(169.) False\n"
     ]
    }
   ],
   "source": [
    "l = y.detach()**2\n",
    "#l = y**2\n",
    "print(l, l.requires_grad)"
   ]
  },
  {
   "cell_type": "code",
   "execution_count": 21,
   "id": "bf509618",
   "metadata": {},
   "outputs": [],
   "source": [
    "#l.backward()\n",
    "#m.backward()\n",
    "#print(m.grad, l.grad, y.grad, x.grad)"
   ]
  },
  {
   "cell_type": "code",
   "execution_count": 22,
   "id": "e72568e3",
   "metadata": {},
   "outputs": [],
   "source": [
    "m = y*4 + l"
   ]
  },
  {
   "cell_type": "code",
   "execution_count": 23,
   "id": "aa271578",
   "metadata": {},
   "outputs": [
    {
     "name": "stdout",
     "output_type": "stream",
     "text": [
      "None None None tensor(24.)\n"
     ]
    }
   ],
   "source": [
    "m.backward()\n",
    "print(m.grad, l.grad, y.grad, x.grad)"
   ]
  },
  {
   "cell_type": "code",
   "execution_count": 24,
   "id": "3b57215e",
   "metadata": {},
   "outputs": [
    {
     "name": "stdout",
     "output_type": "stream",
     "text": [
      "None None None tensor(24.) tensor(16.)\n"
     ]
    }
   ],
   "source": [
    "print(m.grad, l.grad, y.grad, x.grad, a.grad)"
   ]
  },
  {
   "cell_type": "markdown",
   "id": "96a5756a",
   "metadata": {},
   "source": [
    "# xxxxxxxxxxxxxxxxxxxxxxxxxxxxxxxxxxxxxxxxxxxxxxxxxxxxxxxxxxxx"
   ]
  },
  {
   "cell_type": "code",
   "execution_count": 35,
   "id": "832fb96b",
   "metadata": {},
   "outputs": [],
   "source": [
    "class Hello(object):\n",
    "    def __init__(self, name):\n",
    "        self._name = name\n",
    "    \n",
    "    def __len__(self):\n",
    "        return len(self._name)\n",
    "    \n",
    "    def __call__(self):\n",
    "        return \"Hello %s\" % self._name"
   ]
  },
  {
   "cell_type": "code",
   "execution_count": 37,
   "id": "63914893",
   "metadata": {},
   "outputs": [
    {
     "data": {
      "text/plain": [
       "'Hello Ram'"
      ]
     },
     "execution_count": 37,
     "metadata": {},
     "output_type": "execute_result"
    }
   ],
   "source": [
    "Hello(\"Ram\")()"
   ]
  },
  {
   "cell_type": "code",
   "execution_count": 38,
   "id": "c2e549cb",
   "metadata": {},
   "outputs": [
    {
     "data": {
      "text/plain": [
       "3"
      ]
     },
     "execution_count": 38,
     "metadata": {},
     "output_type": "execute_result"
    }
   ],
   "source": [
    "len(Hello(\"Ram\"))"
   ]
  },
  {
   "cell_type": "code",
   "execution_count": null,
   "id": "f67fb556",
   "metadata": {},
   "outputs": [],
   "source": []
  }
 ],
 "metadata": {
  "kernelspec": {
   "display_name": "Python 3 (ipykernel)",
   "language": "python",
   "name": "python3"
  },
  "language_info": {
   "codemirror_mode": {
    "name": "ipython",
    "version": 3
   },
   "file_extension": ".py",
   "mimetype": "text/x-python",
   "name": "python",
   "nbconvert_exporter": "python",
   "pygments_lexer": "ipython3",
   "version": "3.9.12"
  }
 },
 "nbformat": 4,
 "nbformat_minor": 5
}
