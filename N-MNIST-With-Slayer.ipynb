{
 "cells": [
  {
   "cell_type": "code",
   "execution_count": 1,
   "id": "3af89594",
   "metadata": {},
   "outputs": [],
   "source": [
    "import os\n",
    "import numpy as np\n",
    "import matplotlib.pyplot as plt\n",
    "import torch\n",
    "from torch.utils.data import DataLoader\n",
    "from tqdm import tqdm\n",
    "\n",
    "from nmnist_dataset import NMNISTDataset, augment # Import NMNIST dataset."
   ]
  },
  {
   "cell_type": "code",
   "execution_count": 2,
   "id": "a91fb6e6",
   "metadata": {},
   "outputs": [],
   "source": [
    "trained_folder = \"Trained\"\n",
    "os.makedirs(trained_folder, exist_ok=True)"
   ]
  },
  {
   "cell_type": "markdown",
   "id": "8dcf0257",
   "metadata": {},
   "source": [
    "# Create SLAYER network"
   ]
  },
  {
   "cell_type": "code",
   "execution_count": 3,
   "id": "641f3301",
   "metadata": {},
   "outputs": [],
   "source": [
    "import lava.lib.dl.slayer as slayer\n",
    "from lava.lib.dl.slayer.loss import SpikeMax\n",
    "from lava.lib.dl.slayer.utils import Assistant"
   ]
  },
  {
   "cell_type": "code",
   "execution_count": 4,
   "id": "48c8ad53",
   "metadata": {},
   "outputs": [],
   "source": [
    "class SLAYERNetwork(torch.nn.Module):\n",
    "    def __init__(self):\n",
    "        super(SLAYERNetwork, self).__init__()\n",
    "        \n",
    "        neuron_params = {\n",
    "            \"threshold\": 1.25,\n",
    "            \"current_decay\": 0.25,\n",
    "            \"voltage_decay\": 0.03,\n",
    "            \"tau_grad\": 0.03,\n",
    "            \"scale_grad\": 3,\n",
    "            \"requires_grad\": True\n",
    "        }\n",
    "        neuron_params = {**neuron_params}\n",
    "        \n",
    "        self.blocks = torch.nn.ModuleList([\n",
    "            slayer.block.cuba.Dense(neuron_params, 34*34*2, 512, weight_norm=True, delay=True),\n",
    "            slayer.block.cuba.Dense(neuron_params, 512, 512, weight_norm=True, delay=True),\n",
    "            slayer.block.cuba.Dense(neuron_params, 512, 10, weight_norm=True)\n",
    "        ])\n",
    "    \n",
    "    def forward(self, spike):\n",
    "        for block in self.blocks:\n",
    "            spike = block(spike)\n",
    "        return spike\n",
    "    \n",
    "    def grad_flow(self, path):\n",
    "        # helps monitor the gradient flow.\n",
    "        grad = [b.synapse.grad_norm for b in sef.blocks if hasattr(b, \"synapse\")]\n",
    "        plt.figure()\n",
    "        plt.semilogy(grad)\n",
    "        plt.savefig(path+\"gradFlow.png\")\n",
    "        plt.close()\n",
    "        \n",
    "        return grad"
   ]
  },
  {
   "cell_type": "code",
   "execution_count": 5,
   "id": "f7a5c00d",
   "metadata": {},
   "outputs": [],
   "source": [
    "device = torch.device('cuda') if torch.cuda.is_available() else torch.device('cpu')\n",
    "\n",
    "slayer_net = SLAYERNetwork().to(device)\n",
    "error = slayer.loss.SpikeRate(true_rate=0.2, false_rate=0.03, reduction=\"sum\").to(device)\n",
    "optimizer = torch.optim.Adam(slayer_net.parameters(), lr=0.001)\n",
    "slayer_stats = slayer.utils.LearningStats()\n",
    "slayer_assistant = Assistant(slayer_net, error, optimizer, slayer_stats, \n",
    "                             classifier=slayer.classifier.Rate.predict, count_log=False)"
   ]
  },
  {
   "cell_type": "markdown",
   "id": "ca28da7e",
   "metadata": {},
   "source": [
    "# Instantiate Dataset and DataLoader"
   ]
  },
  {
   "cell_type": "code",
   "execution_count": 6,
   "id": "5f1a08a0",
   "metadata": {},
   "outputs": [
    {
     "name": "stdout",
     "output_type": "stream",
     "text": [
      "\n",
      "NMNIST dataset is freely available here:\n",
      "https://www.garrickorchard.com/datasets/n-mnist\n",
      "(c) Creative Commons:\n",
      "    Orchard, G.; Cohen, G.; Jayawant, A.; and Thakor, N.\n",
      "    \"Converting Static Image Datasets to Spiking Neuromorphic Datasets Using\n",
      "    Saccades\",\n",
      "    Frontiers in Neuroscience, vol.9, no.437, Oct. 2015\n",
      "\n"
     ]
    }
   ],
   "source": [
    "training_set = NMNISTDataset(train=True, transform=augment, download=True)\n",
    "testing_set = NMNISTDataset(train=False)\n",
    "train_loader = DataLoader(dataset=training_set, batch_size=256, shuffle=True)\n",
    "test_loader = DataLoader(dataset=testing_set, batch_size=256, shuffle=True)"
   ]
  },
  {
   "cell_type": "markdown",
   "id": "8ae811f8",
   "metadata": {},
   "source": [
    "# Train SLAYER Network"
   ]
  },
  {
   "cell_type": "code",
   "execution_count": 7,
   "id": "f4026cd7",
   "metadata": {},
   "outputs": [
    {
     "name": "stdout",
     "output_type": "stream",
     "text": [
      "\r",
      "[Epoch  0/20] Train "
     ]
    },
    {
     "name": "stderr",
     "output_type": "stream",
     "text": [
      "235it [02:56,  1.33it/s]\n"
     ]
    },
    {
     "name": "stdout",
     "output_type": "stream",
     "text": [
      "\r",
      "[Epoch  0/20] Train loss =     5.07748                        accuracy = 0.63355 | Test  loss =     2.32295                        accuracy = 0.88850\r",
      "[Epoch  1/20] Train "
     ]
    },
    {
     "name": "stderr",
     "output_type": "stream",
     "text": [
      "235it [02:55,  1.34it/s]\n"
     ]
    },
    {
     "name": "stdout",
     "output_type": "stream",
     "text": [
      "\r",
      "[Epoch  1/20] Train loss =     2.46712 (min =     5.07748)    accuracy = 0.87288 (max = 0.63355) | Test  loss =     1.84621 (min =     2.32295)    accuracy = 0.92430 (max = 0.88850)\r",
      "[Epoch  2/20] Train "
     ]
    },
    {
     "name": "stderr",
     "output_type": "stream",
     "text": [
      "235it [02:56,  1.33it/s]\n"
     ]
    },
    {
     "name": "stdout",
     "output_type": "stream",
     "text": [
      "\r",
      "[Epoch  2/20] Train loss =     1.98756 (min =     2.46712)    accuracy = 0.90812 (max = 0.87288) | Test  loss =     1.72022 (min =     1.84621)    accuracy = 0.92920 (max = 0.92430)\r",
      "[Epoch  3/20] Train "
     ]
    },
    {
     "name": "stderr",
     "output_type": "stream",
     "text": [
      "235it [02:56,  1.33it/s]\n"
     ]
    },
    {
     "name": "stdout",
     "output_type": "stream",
     "text": [
      "\r",
      "[Epoch  3/20] Train loss =     1.79057 (min =     1.98756)    accuracy = 0.92083 (max = 0.90812) | Test  loss =     1.34987 (min =     1.72022)    accuracy = 0.95070 (max = 0.92920)\r",
      "[Epoch  4/20] Train "
     ]
    },
    {
     "name": "stderr",
     "output_type": "stream",
     "text": [
      "235it [02:55,  1.34it/s]\n"
     ]
    },
    {
     "name": "stdout",
     "output_type": "stream",
     "text": [
      "\r",
      "[Epoch  4/20] Train loss =     1.57116 (min =     1.79057)    accuracy = 0.93200 (max = 0.92083) | Test  loss =     1.28323 (min =     1.34987)    accuracy = 0.95030 (max = 0.95070)\r",
      "                                                                                                                                                                                       \n",
      "[Epoch  4/20]\n",
      "Train loss =     1.57116 (min =     1.79057)    accuracy = 0.93200 (max = 0.92083) \n",
      "Test  loss =     1.28323 (min =     1.34987)    accuracy = 0.95030 (max = 0.95070)\n",
      "\r",
      "[Epoch  5/20] Train "
     ]
    },
    {
     "name": "stderr",
     "output_type": "stream",
     "text": [
      "235it [02:55,  1.34it/s]\n"
     ]
    },
    {
     "name": "stdout",
     "output_type": "stream",
     "text": [
      "\r",
      "[Epoch  5/20] Train loss =     1.48068 (min =     1.57116)    accuracy = 0.93572 (max = 0.93200) | Test  loss =     1.15632 (min =     1.28323)    accuracy = 0.95730 (max = 0.95070)\r",
      "[Epoch  6/20] Train "
     ]
    },
    {
     "name": "stderr",
     "output_type": "stream",
     "text": [
      "235it [02:56,  1.33it/s]\n"
     ]
    },
    {
     "name": "stdout",
     "output_type": "stream",
     "text": [
      "\r",
      "[Epoch  6/20] Train loss =     1.38956 (min =     1.48068)    accuracy = 0.93740 (max = 0.93572) | Test  loss =     1.11252 (min =     1.15632)    accuracy = 0.95650 (max = 0.95730)\r",
      "[Epoch  7/20] Train "
     ]
    },
    {
     "name": "stderr",
     "output_type": "stream",
     "text": [
      "235it [02:56,  1.33it/s]\n"
     ]
    },
    {
     "name": "stdout",
     "output_type": "stream",
     "text": [
      "\r",
      "[Epoch  7/20] Train loss =     1.31360 (min =     1.38956)    accuracy = 0.94180 (max = 0.93740) | Test  loss =     1.11020 (min =     1.11252)    accuracy = 0.96020 (max = 0.95730)\r",
      "[Epoch  8/20] Train "
     ]
    },
    {
     "name": "stderr",
     "output_type": "stream",
     "text": [
      "235it [02:55,  1.34it/s]\n"
     ]
    },
    {
     "name": "stdout",
     "output_type": "stream",
     "text": [
      "\r",
      "[Epoch  8/20] Train loss =     1.28305 (min =     1.31360)    accuracy = 0.94400 (max = 0.94180) | Test  loss =     0.99424 (min =     1.11020)    accuracy = 0.96690 (max = 0.96020)\r",
      "[Epoch  9/20] Train "
     ]
    },
    {
     "name": "stderr",
     "output_type": "stream",
     "text": [
      "235it [02:55,  1.34it/s]\n"
     ]
    },
    {
     "name": "stdout",
     "output_type": "stream",
     "text": [
      "\r",
      "[Epoch  9/20] Train loss =     1.21671 (min =     1.28305)    accuracy = 0.94722 (max = 0.94400) | Test  loss =     0.93210 (min =     0.99424)    accuracy = 0.96570 (max = 0.96690)\r",
      "                                                                                                                                                                                       \n",
      "[Epoch  9/20]\n",
      "Train loss =     1.21671 (min =     1.28305)    accuracy = 0.94722 (max = 0.94400) \n",
      "Test  loss =     0.93210 (min =     0.99424)    accuracy = 0.96570 (max = 0.96690)\n",
      "\r",
      "[Epoch 10/20] Train "
     ]
    },
    {
     "name": "stderr",
     "output_type": "stream",
     "text": [
      "235it [02:54,  1.34it/s]\n"
     ]
    },
    {
     "name": "stdout",
     "output_type": "stream",
     "text": [
      "\r",
      "[Epoch 10/20] Train loss =     1.16687 (min =     1.21671)    accuracy = 0.94973 (max = 0.94722) | Test  loss =     0.94632 (min =     0.93210)    accuracy = 0.96630 (max = 0.96690)\r",
      "[Epoch 11/20] Train "
     ]
    },
    {
     "name": "stderr",
     "output_type": "stream",
     "text": [
      "235it [02:56,  1.33it/s]\n"
     ]
    },
    {
     "name": "stdout",
     "output_type": "stream",
     "text": [
      "\r",
      "[Epoch 11/20] Train loss =     1.15986 (min =     1.16687)    accuracy = 0.95097 (max = 0.94973) | Test  loss =     0.90963 (min =     0.93210)    accuracy = 0.96680 (max = 0.96690)\r",
      "[Epoch 12/20] Train "
     ]
    },
    {
     "name": "stderr",
     "output_type": "stream",
     "text": [
      "235it [02:56,  1.33it/s]\n"
     ]
    },
    {
     "name": "stdout",
     "output_type": "stream",
     "text": [
      "\r",
      "[Epoch 12/20] Train loss =     1.12586 (min =     1.15986)    accuracy = 0.95332 (max = 0.95097) | Test  loss =     0.92153 (min =     0.90963)    accuracy = 0.96820 (max = 0.96690)\r",
      "[Epoch 13/20] Train "
     ]
    },
    {
     "name": "stderr",
     "output_type": "stream",
     "text": [
      "235it [02:56,  1.33it/s]\n"
     ]
    },
    {
     "name": "stdout",
     "output_type": "stream",
     "text": [
      "\r",
      "[Epoch 13/20] Train loss =     1.13797 (min =     1.12586)    accuracy = 0.95470 (max = 0.95332) | Test  loss =     0.90434 (min =     0.90963)    accuracy = 0.96720 (max = 0.96820)\r",
      "[Epoch 14/20] Train "
     ]
    },
    {
     "name": "stderr",
     "output_type": "stream",
     "text": [
      "235it [02:56,  1.33it/s]\n"
     ]
    },
    {
     "name": "stdout",
     "output_type": "stream",
     "text": [
      "\r",
      "[Epoch 14/20] Train loss =     1.09113 (min =     1.12586)    accuracy = 0.95508 (max = 0.95470) | Test  loss =     0.99115 (min =     0.90434)    accuracy = 0.96870 (max = 0.96820)\r",
      "                                                                                                                                                                                       \n",
      "[Epoch 14/20]\n",
      "Train loss =     1.09113 (min =     1.12586)    accuracy = 0.95508 (max = 0.95470) \n",
      "Test  loss =     0.99115 (min =     0.90434)    accuracy = 0.96870 (max = 0.96820)\n",
      "\r",
      "[Epoch 15/20] Train "
     ]
    },
    {
     "name": "stderr",
     "output_type": "stream",
     "text": [
      "235it [02:55,  1.34it/s]\n"
     ]
    },
    {
     "name": "stdout",
     "output_type": "stream",
     "text": [
      "\r",
      "[Epoch 15/20] Train loss =     1.05736 (min =     1.09113)    accuracy = 0.95672 (max = 0.95508) | Test  loss =     0.84850 (min =     0.90434)    accuracy = 0.96880 (max = 0.96870)\r",
      "[Epoch 16/20] Train "
     ]
    },
    {
     "name": "stderr",
     "output_type": "stream",
     "text": [
      "235it [02:55,  1.34it/s]\n"
     ]
    },
    {
     "name": "stdout",
     "output_type": "stream",
     "text": [
      "\r",
      "[Epoch 16/20] Train loss =     1.02757 (min =     1.05736)    accuracy = 0.95673 (max = 0.95672) | Test  loss =     0.91514 (min =     0.84850)    accuracy = 0.97100 (max = 0.96880)\r",
      "[Epoch 17/20] Train "
     ]
    },
    {
     "name": "stderr",
     "output_type": "stream",
     "text": [
      "235it [02:56,  1.33it/s]\n"
     ]
    },
    {
     "name": "stdout",
     "output_type": "stream",
     "text": [
      "\r",
      "[Epoch 17/20] Train loss =     1.05009 (min =     1.02757)    accuracy = 0.95738 (max = 0.95673) | Test  loss =     0.86629 (min =     0.84850)    accuracy = 0.97070 (max = 0.97100)\r",
      "[Epoch 18/20] Train "
     ]
    },
    {
     "name": "stderr",
     "output_type": "stream",
     "text": [
      "235it [02:55,  1.34it/s]\n"
     ]
    },
    {
     "name": "stdout",
     "output_type": "stream",
     "text": [
      "\r",
      "[Epoch 18/20] Train loss =     1.01840 (min =     1.02757)    accuracy = 0.95863 (max = 0.95738) | Test  loss =     0.85288 (min =     0.84850)    accuracy = 0.97040 (max = 0.97100)\r",
      "[Epoch 19/20] Train "
     ]
    },
    {
     "name": "stderr",
     "output_type": "stream",
     "text": [
      "235it [02:55,  1.34it/s]\n"
     ]
    },
    {
     "name": "stdout",
     "output_type": "stream",
     "text": [
      "\r",
      "[Epoch 19/20] Train loss =     1.02871 (min =     1.01840)    accuracy = 0.95945 (max = 0.95863) | Test  loss =     0.90141 (min =     0.84850)    accuracy = 0.97260 (max = 0.97100)\r",
      "                                                                                                                                                                                       \n",
      "[Epoch 19/20]\n",
      "Train loss =     1.02871 (min =     1.01840)    accuracy = 0.95945 (max = 0.95863) \n",
      "Test  loss =     0.90141 (min =     0.84850)    accuracy = 0.97260 (max = 0.97100)\n"
     ]
    }
   ],
   "source": [
    "epochs = 20\n",
    "for epoch in range(epochs):\n",
    "    train_iter = iter(train_loader)\n",
    "    print(f\"\\r[Epoch {epoch:2d}/{epochs}] {slayer_stats}\", end=\"\")\n",
    "    \n",
    "    for i, (inputs, labels) in tqdm(enumerate(train_iter)): # Training loop.\n",
    "        output = slayer_assistant.train(inputs, labels)\n",
    "    \n",
    "    test_iter = iter(test_loader)\n",
    "    for i, (inputs, label) in enumerate(test_iter): # Testing loop.\n",
    "        output = slayer_assistant.test(inputs, label)\n",
    "    \n",
    "    print(f\"\\r[Epoch {epoch:2d}/{epochs}] {slayer_stats}\", end=\"\")\n",
    "    \n",
    "    if epoch%5 == 4: # Cleanup Display.\n",
    "        print('\\r', ' '*len(f'\\r[Epoch {epoch:2d}/{epochs}] {slayer_stats}'))\n",
    "        stats_str = str(slayer_stats).replace(\"| \", \"\\n\")\n",
    "        print(f'[Epoch {epoch:2d}/{epochs}]\\n{stats_str}')\n",
    "    \n",
    "    if slayer_stats.testing.best_accuracy:\n",
    "        torch.save(slayer_net.state_dict(), trained_folder + '/slayer_network.pt')\n",
    "    slayer_stats.update()"
   ]
  },
  {
   "cell_type": "code",
   "execution_count": null,
   "id": "f58bf31d",
   "metadata": {},
   "outputs": [],
   "source": []
  }
 ],
 "metadata": {
  "kernelspec": {
   "display_name": "Python 3 (ipykernel)",
   "language": "python",
   "name": "python3"
  },
  "language_info": {
   "codemirror_mode": {
    "name": "ipython",
    "version": 3
   },
   "file_extension": ".py",
   "mimetype": "text/x-python",
   "name": "python",
   "nbconvert_exporter": "python",
   "pygments_lexer": "ipython3",
   "version": "3.9.12"
  }
 },
 "nbformat": 4,
 "nbformat_minor": 5
}
